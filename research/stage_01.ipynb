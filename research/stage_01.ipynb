{
 "cells": [
  {
   "cell_type": "code",
   "execution_count": 1,
   "metadata": {},
   "outputs": [],
   "source": [
    "import os\n",
    "import urllib.request as request\n",
    "from zipfile import ZipFile\n",
    "\n",
    "from collections import namedtuple\n",
    "\n",
    "os.chdir(\"../\")"
   ]
  },
  {
   "cell_type": "code",
   "execution_count": 2,
   "metadata": {},
   "outputs": [],
   "source": [
    "DataIngestionConfig = namedtuple(\n",
    "    \"DataIngestionConfig\", [\n",
    "        \"root_dir\",  # Directory where the artifacts of data ingestion will be saved\n",
    "        \"source_URL\",  # URL of the data\n",
    "        \"zipped_data_file_path\",  # Path of the downloaded zipped data file\n",
    "        \"unzipped_file_dir\",  # Directory of the unzipped data file\n",
    "    ]\n",
    ")"
   ]
  },
  {
   "cell_type": "code",
   "execution_count": 3,
   "metadata": {},
   "outputs": [],
   "source": [
    "from DeepClassifier.constants import *\n",
    "from DeepClassifier.utils import read_yaml, create_directories"
   ]
  },
  {
   "attachments": {},
   "cell_type": "markdown",
   "metadata": {},
   "source": [
    "## Configuration Manager"
   ]
  },
  {
   "cell_type": "code",
   "execution_count": 4,
   "metadata": {},
   "outputs": [],
   "source": [
    "class ConfigurationManager:\n",
    "    def __init__(\n",
    "        self,\n",
    "        config_file_path: Path = CONFIG_FILE_PATH,\n",
    "        params_file_path: Path = PARAMS_FILE_PATH\n",
    "    ) -> None:\n",
    "        \"\"\"Inits ConfigurationManager.\n",
    "\n",
    "        Args:\n",
    "            config_file_path (Path, optional): Path of the config.yaml file.\n",
    "                Defaults to the constant CONFIG_FILE_PATH.\n",
    "            params_file_path (Path, optional): Path of the params.yaml file.\n",
    "                Defaults to the constant PARAMS_FILE_PATH.\n",
    "        \"\"\"\n",
    "        # Getting information in the config.yaml and params.yaml file\n",
    "        self.config = read_yaml(yaml_file_path=config_file_path)\n",
    "        self.params = read_yaml(yaml_file_path=params_file_path)\n",
    "        \n",
    "        # Creating the 'artifacts' directory\n",
    "        create_directories(paths_of_directories=[self.config.artifacts_root])\n",
    "    \n",
    "    def get_data_ingestion_config(self) -> DataIngestionConfig:\n",
    "        \"\"\"Creates and returns DataIngestionConfig.\n",
    "\n",
    "        Returns:\n",
    "            DataIngestionConfig: The DataIngestionConfig.\n",
    "        \"\"\"\n",
    "        # Getting the values in the `data_ingestion` key of the config.yaml\n",
    "        # file\n",
    "        config = self.config.data_ingestion\n",
    "        \n",
    "        # Creating the directory 'artifacts/data_ingestion'\n",
    "        create_directories(paths_of_directories=[config.root_dir])\n",
    "        \n",
    "        # Creating and returning `DataIngestionConfig`\n",
    "        data_ingestion_config = DataIngestionConfig(\n",
    "            root_dir=config.root_dir,\n",
    "            source_URL=config.source_URL,\n",
    "            zipped_data_file_path=config.zipped_data_file_path,\n",
    "            unzipped_file_dir=config.unzipped_file_dir\n",
    "        )\n",
    "        return data_ingestion_config"
   ]
  },
  {
   "attachments": {},
   "cell_type": "markdown",
   "metadata": {},
   "source": [
    "## Components"
   ]
  },
  {
   "cell_type": "code",
   "execution_count": 5,
   "metadata": {},
   "outputs": [],
   "source": [
    "class DataIngestion:\n",
    "    def __init__(self, config: DataIngestionConfig) -> None:\n",
    "        \"\"\"Inits DataIngestion.\n",
    "\n",
    "        Args:\n",
    "            config (DataIngestionConfig): The DataIngestionConfig.\n",
    "        \"\"\"\n",
    "        self.config = config\n",
    "    \n",
    "    def download_data_file(self) -> None:\n",
    "        \"\"\"Downloads the data file.\n",
    "        \"\"\"\n",
    "        # Download only when the file is not already downloaded\n",
    "        if not os.path.exists(self.config.zipped_data_file_path):\n",
    "            filename, headers = request.urlretrieve(\n",
    "                url=self.config.source_URL,\n",
    "                filename=self.config.zipped_data_file_path\n",
    "            )\n",
    "    \n",
    "    def _get_updated_list_of_files(self, list_of_files: list) -> list:\n",
    "        \"\"\"Returns an updated list of files that include only those files which\n",
    "        are needed for training.\n",
    "\n",
    "        Args:\n",
    "            list_of_files (list): The list of files to be updated.\n",
    "\n",
    "        Returns:\n",
    "            list: The updated list of files.\n",
    "        \"\"\"\n",
    "        updated_list_of_files = []\n",
    "        for file in list_of_files:\n",
    "            # Only get those files having an extension of 'jpg' and those that\n",
    "            # are in either the 'Cat' or the 'Dog' directories\n",
    "            if file.endswith(\".jpg\") and (\"Cat\" in file or \"Dog\" in file):\n",
    "                updated_list_of_files.append(file)\n",
    "        \n",
    "        return updated_list_of_files\n",
    "    \n",
    "    def _preprocess(self, zf: ZipFile, file: str, working_dir: str) -> None:\n",
    "        \"\"\"Extracts a file from the zipped data file.\n",
    "\n",
    "        Args:\n",
    "            zf (ZipFile): The zip file of the data.\n",
    "            file (str): The file (path) in the zip data to be extracted.\n",
    "            working_dir (str): The directory in which the file is to be\n",
    "                extracted.\n",
    "        \"\"\"\n",
    "        # Creating the path of the file that is to be extracted\n",
    "        target_file_path = os.path.join(working_dir, file)\n",
    "        \n",
    "        # We extract the file only if it does not already exists\n",
    "        if not os.path.exists(target_file_path):\n",
    "            zf.extract(file, working_dir)\n",
    "        \n",
    "        # If the size of the extracted file is 0 KB, we delete it\n",
    "        if os.path.getsize(target_file_path) == 0:\n",
    "            os.remove(target_file_path)\n",
    "    \n",
    "    def unzip_and_clean_data_file(self) -> None:\n",
    "        \"\"\"Unzips and cleans the data file.\n",
    "        \"\"\"\n",
    "        with ZipFile(file=self.config.zipped_data_file_path, mode=\"r\") as zf:\n",
    "            # Getting the list of files in the downloaded zip file\n",
    "            list_of_files = zf.namelist()\n",
    "            \n",
    "            # Updating the list of files to only include files that we want\n",
    "            # for training\n",
    "            updated_list_of_files = self._get_updated_list_of_files(\n",
    "                list_of_files=list_of_files\n",
    "            )\n",
    "            \n",
    "            # Extracting the files\n",
    "            for file in updated_list_of_files:\n",
    "                self._preprocess(\n",
    "                    zf=zf,\n",
    "                    file=file,\n",
    "                    working_dir=self.config.unzipped_file_dir\n",
    "                )"
   ]
  },
  {
   "cell_type": "code",
   "execution_count": 6,
   "metadata": {},
   "outputs": [
    {
     "name": "stdout",
     "output_type": "stream",
     "text": [
      "[2023-06-30 12:24:32,960: INFO: common]: YAML file 'configs\\config.yaml' loaded successfully\n",
      "[2023-06-30 12:24:32,975: INFO: common]: YAML file 'params.yaml' loaded successfully\n",
      "[2023-06-30 12:24:32,978: INFO: common]: Created the directory at: artifacts\n",
      "[2023-06-30 12:24:32,981: INFO: common]: Created the directory at: artifacts/data_ingestion\n"
     ]
    }
   ],
   "source": [
    "try:\n",
    "    config = ConfigurationManager()\n",
    "\n",
    "    data_ingestion_config = config.get_data_ingestion_config()\n",
    "\n",
    "    data_ingestion = DataIngestion(config=data_ingestion_config)\n",
    "    data_ingestion.download_data_file()\n",
    "    data_ingestion.unzip_and_clean_data_file()\n",
    "except Exception as e:\n",
    "    raise e"
   ]
  }
 ],
 "metadata": {
  "kernelspec": {
   "display_name": "Python 3",
   "language": "python",
   "name": "python3"
  },
  "language_info": {
   "codemirror_mode": {
    "name": "ipython",
    "version": 3
   },
   "file_extension": ".py",
   "mimetype": "text/x-python",
   "name": "python",
   "nbconvert_exporter": "python",
   "pygments_lexer": "ipython3",
   "version": "3.8.16"
  },
  "orig_nbformat": 4
 },
 "nbformat": 4,
 "nbformat_minor": 2
}
