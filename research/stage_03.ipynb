{
 "cells": [
  {
   "cell_type": "code",
   "execution_count": 1,
   "metadata": {},
   "outputs": [],
   "source": [
    "import os\n",
    "import time\n",
    "os.chdir(\"../\")\n",
    "from dataclasses import dataclass\n",
    "from pathlib import Path\n",
    "from zipfile import ZipFile\n",
    "from DeepClassifier.constants import *\n",
    "from DeepClassifier.utils import read_yaml, create_directories\n",
    "from DeepClassifier.entities import DataIngestionConfig\n",
    "import tensorflow as tf"
   ]
  },
  {
   "cell_type": "code",
   "execution_count": 2,
   "metadata": {},
   "outputs": [],
   "source": [
    "@dataclass(frozen=True)\n",
    "class PrepareCallbacksConfig:\n",
    "    root_dir: Path\n",
    "    tensorboard_root_log_dir: Path\n",
    "    checkpoint_model_filepath: Path"
   ]
  },
  {
   "attachments": {},
   "cell_type": "markdown",
   "metadata": {},
   "source": [
    "## Configuration Manager"
   ]
  },
  {
   "cell_type": "code",
   "execution_count": 3,
   "metadata": {},
   "outputs": [],
   "source": [
    "class ConfigurationManager:\n",
    "    def __init__(\n",
    "        self,\n",
    "        config_file_path: Path = CONFIG_FILE_PATH,\n",
    "        params_file_path: Path = PARAMS_FILE_PATH\n",
    "    ) -> None:\n",
    "        \"\"\"Inits ConfigurationManager.\n",
    "\n",
    "        Args:\n",
    "            config_file_path (Path, optional): Path of the config.yaml file.\n",
    "                Defaults to the constant CONFIG_FILE_PATH.\n",
    "            params_file_path (Path, optional): Path of the params.yaml file.\n",
    "                Defaults to the constant PARAMS_FILE_PATH.\n",
    "        \"\"\"\n",
    "        # Getting information in the config.yaml and params.yaml file\n",
    "        self.config = read_yaml(yaml_file_path=config_file_path)\n",
    "        self.params = read_yaml(yaml_file_path=params_file_path)\n",
    "        \n",
    "        # Creating the 'artifacts' directory\n",
    "        create_directories(paths_of_directories=[self.config.artifacts_root])\n",
    "    \n",
    "    def get_prepare_callbacks_config(self) -> PrepareCallbacksConfig:\n",
    "        \"\"\"Creates and returns PrepareCallbacksConfig.\n",
    "\n",
    "        Returns:\n",
    "            PrepareCallbacksConfig: The PrepareCallbacksConfig.\n",
    "        \"\"\"\n",
    "        # Getting the values in the `prepare_callbacks` key of the config.yaml\n",
    "        # file\n",
    "        config = self.config.prepare_callbacks\n",
    "        \n",
    "        # Creating the directories 'artifacts/prepare_callbacks',\n",
    "        # 'artifacts/prepare_callbacks/tensorboard_logs', and\n",
    "        # 'artifacts/prepare_callbacks/checkpoint'\n",
    "        checkpoint_model_dir = os.path.dirname(\n",
    "            Path(config.checkpoint_model_filepath)\n",
    "        )\n",
    "        create_directories(\n",
    "            paths_of_directories=[\n",
    "                Path(config.root_dir),\n",
    "                Path(config.tensorboard_root_log_dir),\n",
    "                Path(checkpoint_model_dir)\n",
    "            ]\n",
    "        )\n",
    "        \n",
    "        # Creating and returning `PrepareCallbacksConfig`\n",
    "        prepare_callbacks_config = PrepareCallbacksConfig(\n",
    "            root_dir=Path(config.root_dir),\n",
    "            tensorboard_root_log_dir=Path(config.tensorboard_root_log_dir),\n",
    "            checkpoint_model_filepath=Path(config.checkpoint_model_filepath)\n",
    "        )\n",
    "        return prepare_callbacks_config"
   ]
  },
  {
   "attachments": {},
   "cell_type": "markdown",
   "metadata": {},
   "source": [
    "## Components"
   ]
  },
  {
   "cell_type": "code",
   "execution_count": 4,
   "metadata": {},
   "outputs": [],
   "source": [
    "class PrepareCallbacks:\n",
    "    def __init__(self, config: PrepareCallbacksConfig) -> None:\n",
    "        \"\"\"Inits PrepareCallbacks.\n",
    "\n",
    "        Args:\n",
    "            config (PrepareCallbacksConfig): The PrepareCallbacksConfig.\n",
    "        \"\"\"\n",
    "        self.config = config\n",
    "    \n",
    "    @property\n",
    "    def _create_tb_callbacks(self):\n",
    "        timestamp = time.strftime(\"%Y-%m-%d_%H-%M-%S\")\n",
    "        tb_running_log_dir = Path(os.path.join(\n",
    "            self.config.tensorboard_root_log_dir,\n",
    "            f\"tb_logs_at_time_{timestamp}\",\n",
    "        ))\n",
    "        return tf.keras.callbacks.TensorBoard(log_dir=tb_running_log_dir)\n",
    "    \n",
    "    @property\n",
    "    def _create_checkpoint_callbacks(self):\n",
    "        return tf.keras.callbacks.ModelCheckpoint(\n",
    "            filepath=self.config.checkpoint_model_filepath,\n",
    "            save_best_only=True,\n",
    "        )\n",
    "        \n",
    "    def get_tb_and_checkpoint_callbacks(self) -> list:\n",
    "        return [\n",
    "            self._create_tb_callbacks,\n",
    "            self._create_checkpoint_callbacks\n",
    "        ]"
   ]
  },
  {
   "cell_type": "code",
   "execution_count": 5,
   "metadata": {},
   "outputs": [],
   "source": [
    "try:\n",
    "    config = ConfigurationManager()\n",
    "\n",
    "    prepare_callbacks_config = config.get_prepare_callbacks_config()\n",
    "\n",
    "    prepare_callbacks = PrepareCallbacks(config=prepare_callbacks_config)\n",
    "    prepare_callbacks.get_tb_and_checkpoint_callbacks()\n",
    "except Exception as e:\n",
    "    raise e"
   ]
  }
 ],
 "metadata": {
  "kernelspec": {
   "display_name": "Python 3",
   "language": "python",
   "name": "python3"
  },
  "language_info": {
   "codemirror_mode": {
    "name": "ipython",
    "version": 3
   },
   "file_extension": ".py",
   "mimetype": "text/x-python",
   "name": "python",
   "nbconvert_exporter": "python",
   "pygments_lexer": "ipython3",
   "version": "3.8.16"
  },
  "orig_nbformat": 4
 },
 "nbformat": 4,
 "nbformat_minor": 2
}
