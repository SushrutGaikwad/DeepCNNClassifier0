{
 "cells": [
  {
   "cell_type": "code",
   "execution_count": 1,
   "metadata": {},
   "outputs": [],
   "source": [
    "import tensorflow as tf\n",
    "import os\n",
    "os.chdir(\"../\")\n",
    "from dataclasses import dataclass\n",
    "from pathlib import Path"
   ]
  },
  {
   "cell_type": "code",
   "execution_count": 2,
   "metadata": {},
   "outputs": [],
   "source": [
    "from DeepClassifier.constants import *\n",
    "from DeepClassifier.utils import read_yaml, create_directories, save_json"
   ]
  },
  {
   "cell_type": "code",
   "execution_count": 3,
   "metadata": {},
   "outputs": [],
   "source": [
    "@dataclass(frozen=True)\n",
    "class EvaluationConfig:\n",
    "    model_path: Path\n",
    "    training_data_path: Path\n",
    "    params_validation_split: float\n",
    "    params_image_size: list\n",
    "    params_batch_size: int"
   ]
  },
  {
   "attachments": {},
   "cell_type": "markdown",
   "metadata": {},
   "source": [
    "## Configuration Manager"
   ]
  },
  {
   "cell_type": "code",
   "execution_count": 4,
   "metadata": {},
   "outputs": [],
   "source": [
    "class ConfigurationManager:\n",
    "    def __init__(\n",
    "        self,\n",
    "        config_file_path: Path = CONFIG_FILE_PATH,\n",
    "        params_file_path: Path = PARAMS_FILE_PATH\n",
    "    ) -> None:\n",
    "        \"\"\"Inits ConfigurationManager.\n",
    "\n",
    "        Args:\n",
    "            config_file_path (Path, optional): Path of the config.yaml file.\n",
    "                Defaults to the constant CONFIG_FILE_PATH.\n",
    "            params_file_path (Path, optional): Path of the params.yaml file.\n",
    "                Defaults to the constant PARAMS_FILE_PATH.\n",
    "        \"\"\"\n",
    "        # Getting information in the config.yaml and params.yaml file\n",
    "        self.config = read_yaml(yaml_file_path=config_file_path)\n",
    "        self.params = read_yaml(yaml_file_path=params_file_path)\n",
    "        \n",
    "        # Creating the 'artifacts' directory\n",
    "        create_directories(paths_of_directories=[self.config.artifacts_root])\n",
    "    \n",
    "    def get_evaluation_config(self) -> EvaluationConfig:\n",
    "        evaluation_config = EvaluationConfig(\n",
    "            model_path=model_path,\n",
    "            training_data_dir=training_data_dir,\n",
    "            params_validation_split=self.params.VALIDATION_SPLIT,\n",
    "            params_image_size=self.params.IMAGE_SIZE,\n",
    "            params_batch_size=self.params.BATCH_SIZE,\n",
    "        )\n",
    "        return evaluation_config"
   ]
  },
  {
   "attachments": {},
   "cell_type": "markdown",
   "metadata": {},
   "source": [
    "## Components"
   ]
  },
  {
   "cell_type": "code",
   "execution_count": null,
   "metadata": {},
   "outputs": [],
   "source": [
    "class Evaluation:\n",
    "    def __init__(self, config: EvaluationConfig) -> None:\n",
    "        \"\"\"Inits Evaluation.\n",
    "\n",
    "        Args:\n",
    "            config (EvaluationConfig): The EvaluationConfig.\n",
    "        \"\"\"\n",
    "        self.config = config\n",
    "    \n",
    "    def _val_generator(self):\n",
    "        datagen_kwargs = dict(\n",
    "            rescale=1./255,\n",
    "            validation_split=self.config.params_validation_split,\n",
    "        )\n",
    "        \n",
    "        dataflow_kwargs = dict(\n",
    "            target_size=self.config.params_image_size[:-1],\n",
    "            batch_size=self.config.params_batch_size,\n",
    "            interpolation=\"bilinear\",\n",
    "        )\n",
    "        \n",
    "        val_datagen = tf.keras.preprocessing.image.ImageDataGenerator(\n",
    "            **datagen_kwargs\n",
    "        )\n",
    "        \n",
    "        self.validation_generator = val_datagen.flow_from_directory(\n",
    "            directory=self.config.training_data_dir,\n",
    "            subset=\"validation\",\n",
    "            shuffle=False,\n",
    "            **dataflow_kwargs,\n",
    "        )\n",
    "    \n",
    "    def evaluation(self):\n",
    "        self.model = self.load_model(path=self.config.model_path)\n",
    "        self._val_generator()\n",
    "        self.scores = self.model.evaluate(self.validation_generator)\n",
    "    \n",
    "    def save_scores(self):\n",
    "        scores = {\n",
    "            \"loss\": self.scores[0],\n",
    "            \"accuracy\": self.scores[1]\n",
    "        }\n",
    "        save_json(\n",
    "            path=Path(\"scores.json\"),\n",
    "            data=scores\n",
    "        )\n",
    "\n",
    "    @staticmethod\n",
    "    def load_model(path: Path) -> tf.keras.Model:\n",
    "        return tf.keras.models.load_model(path)"
   ]
  },
  {
   "cell_type": "code",
   "execution_count": null,
   "metadata": {},
   "outputs": [],
   "source": [
    "try:\n",
    "    config = ConfigurationManager()\n",
    "    evaluation_config = config.get_evaluation_config()\n",
    "    evaluation = Evaluation(config=evaluation_config)\n",
    "    evaluation.evaluation()\n",
    "    evaluation.save_score()\n",
    "except Exception as e:\n",
    "    raise e"
   ]
  }
 ],
 "metadata": {
  "kernelspec": {
   "display_name": "Python 3",
   "language": "python",
   "name": "python3"
  },
  "language_info": {
   "codemirror_mode": {
    "name": "ipython",
    "version": 3
   },
   "file_extension": ".py",
   "mimetype": "text/x-python",
   "name": "python",
   "nbconvert_exporter": "python",
   "pygments_lexer": "ipython3",
   "version": "3.8.16"
  },
  "orig_nbformat": 4
 },
 "nbformat": 4,
 "nbformat_minor": 2
}
